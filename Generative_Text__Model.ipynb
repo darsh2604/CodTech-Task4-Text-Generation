{
  "nbformat": 4,
  "nbformat_minor": 0,
  "metadata": {
    "colab": {
      "provenance": []
    },
    "kernelspec": {
      "name": "python3",
      "display_name": "Python 3"
    },
    "language_info": {
      "name": "python"
    }
  },
  "cells": [
    {
      "cell_type": "code",
      "source": [
        "# CodTech Internship – Task 4\n",
        "## ✨ Generative Text Model using GPT-2\n",
        "### 👩‍💻 Developed by: Vanshika Goyal\n",
        "\n",
        "In this notebook, I’ve used a pre-trained GPT-2 model from Hugging Face Transformers to generate human-like paragraphs based on user prompts. This task demonstrates the power of generative language models."
      ],
      "metadata": {
        "id": "QN3B3B5NG84W"
      },
      "execution_count": null,
      "outputs": []
    },
    {
      "cell_type": "code",
      "execution_count": 1,
      "metadata": {
        "colab": {
          "base_uri": "https://localhost:8080/"
        },
        "id": "BwrkO8enBq_s",
        "outputId": "d7dcf8cd-4915-4a48-c3c7-097a3de4b131"
      },
      "outputs": [
        {
          "output_type": "stream",
          "name": "stdout",
          "text": [
            "Requirement already satisfied: transformers in /usr/local/lib/python3.11/dist-packages (4.53.1)\n",
            "Requirement already satisfied: filelock in /usr/local/lib/python3.11/dist-packages (from transformers) (3.18.0)\n",
            "Requirement already satisfied: huggingface-hub<1.0,>=0.30.0 in /usr/local/lib/python3.11/dist-packages (from transformers) (0.33.2)\n",
            "Requirement already satisfied: numpy>=1.17 in /usr/local/lib/python3.11/dist-packages (from transformers) (2.0.2)\n",
            "Requirement already satisfied: packaging>=20.0 in /usr/local/lib/python3.11/dist-packages (from transformers) (24.2)\n",
            "Requirement already satisfied: pyyaml>=5.1 in /usr/local/lib/python3.11/dist-packages (from transformers) (6.0.2)\n",
            "Requirement already satisfied: regex!=2019.12.17 in /usr/local/lib/python3.11/dist-packages (from transformers) (2024.11.6)\n",
            "Requirement already satisfied: requests in /usr/local/lib/python3.11/dist-packages (from transformers) (2.32.3)\n",
            "Requirement already satisfied: tokenizers<0.22,>=0.21 in /usr/local/lib/python3.11/dist-packages (from transformers) (0.21.2)\n",
            "Requirement already satisfied: safetensors>=0.4.3 in /usr/local/lib/python3.11/dist-packages (from transformers) (0.5.3)\n",
            "Requirement already satisfied: tqdm>=4.27 in /usr/local/lib/python3.11/dist-packages (from transformers) (4.67.1)\n",
            "Requirement already satisfied: fsspec>=2023.5.0 in /usr/local/lib/python3.11/dist-packages (from huggingface-hub<1.0,>=0.30.0->transformers) (2025.3.2)\n",
            "Requirement already satisfied: typing-extensions>=3.7.4.3 in /usr/local/lib/python3.11/dist-packages (from huggingface-hub<1.0,>=0.30.0->transformers) (4.14.1)\n",
            "Requirement already satisfied: hf-xet<2.0.0,>=1.1.2 in /usr/local/lib/python3.11/dist-packages (from huggingface-hub<1.0,>=0.30.0->transformers) (1.1.5)\n",
            "Requirement already satisfied: charset-normalizer<4,>=2 in /usr/local/lib/python3.11/dist-packages (from requests->transformers) (3.4.2)\n",
            "Requirement already satisfied: idna<4,>=2.5 in /usr/local/lib/python3.11/dist-packages (from requests->transformers) (3.10)\n",
            "Requirement already satisfied: urllib3<3,>=1.21.1 in /usr/local/lib/python3.11/dist-packages (from requests->transformers) (2.4.0)\n",
            "Requirement already satisfied: certifi>=2017.4.17 in /usr/local/lib/python3.11/dist-packages (from requests->transformers) (2025.7.9)\n"
          ]
        }
      ],
      "source": [
        "!pip install transformers"
      ]
    },
    {
      "cell_type": "code",
      "source": [
        "from transformers import pipeline,set_seed\n",
        "\n",
        "# Load text-generation pipeline\n",
        "generator = pipeline(\"text-generation\", model=\"gpt2\")\n",
        "set_seed(42)"
      ],
      "metadata": {
        "colab": {
          "base_uri": "https://localhost:8080/"
        },
        "id": "9cqRyUWbB0dr",
        "outputId": "2c07ad50-adc8-4952-d54f-13543f721fcd"
      },
      "execution_count": 7,
      "outputs": [
        {
          "output_type": "stream",
          "name": "stderr",
          "text": [
            "Device set to use cpu\n"
          ]
        }
      ]
    },
    {
      "cell_type": "code",
      "source": [
        "# User prompt (you can change it)\n",
        "prompt = \"The importance of mental health in modern society\"\n",
        "\n",
        "# Generate text\n",
        "generated = generator(prompt, max_length=200, num_return_sequences=1)\n",
        "\n",
        "# Display result\n",
        "print(\"📝 Generated Text:\\n\")\n",
        "print(generated[0]['generated_text'])\n"
      ],
      "metadata": {
        "colab": {
          "base_uri": "https://localhost:8080/"
        },
        "id": "gbDVoeZkCDLI",
        "outputId": "c20decf5-a3e5-4281-f6e9-718e4fd95e7c"
      },
      "execution_count": 11,
      "outputs": [
        {
          "output_type": "stream",
          "name": "stderr",
          "text": [
            "Setting `pad_token_id` to `eos_token_id`:50256 for open-end generation.\n",
            "Both `max_new_tokens` (=256) and `max_length`(=200) seem to have been set. `max_new_tokens` will take precedence. Please refer to the documentation for more information. (https://huggingface.co/docs/transformers/main/en/main_classes/text_generation)\n"
          ]
        },
        {
          "output_type": "stream",
          "name": "stdout",
          "text": [
            "📝 Generated Text:\n",
            "\n",
            "The importance of mental health in modern society and around the world is not only to combat the epidemic of mental illness, but also to strengthen our communities, our communities' capacity to provide services, and to help those in need.\n",
            "\n",
            "If you or someone you know is affected by an illness or crisis, contact your local mental health agency to find out more. Find out how you can help them by doing something to help them.\n",
            "\n",
            "If you or someone you know is facing mental health challenges, call Lifeline on 1300 333 000 or visit www.lifeline.org.au.\n",
            "\n",
            "Mental Health Crisis Services is one of the nation's leading and most effective community mental health centres. We offer a range of services to people living with or without mental illness. We have a wide range of services available to people with or without mental illness, including:\n",
            "\n",
            "Counselling\n",
            "\n",
            "Depression and anxiety\n",
            "\n",
            "Counselling\n",
            "\n",
            "Health and social care\n",
            "\n",
            "Counselling and counselling for patients with mental health issues.\n",
            "\n",
            "We also provide services to all Australians who are in need of support and support.\n",
            "\n",
            "Inspective Services, Mental Health Crisis and Community Mental Health Services\n",
            "\n",
            "These services offer support, referral and counselling to people with mental illness.\n",
            "\n",
            "We offer the following different types of\n"
          ]
        }
      ]
    },
    {
      "cell_type": "code",
      "source": [
        "prompts = [\n",
        "    \"Benefits of learning Python\",\n",
        "    \"The role of AI in education\",\n",
        "    \"Why we should save water\",\n",
        "    \"My dream project as a tech student\"\n",
        "]\n",
        "\n",
        "# Loop through each prompt and generate output\n",
        "for p in prompts:\n",
        "    print(f\"\\n🔸 Prompt: {p}\")\n",
        "    result = generator(p, max_length=80, num_return_sequences=1)\n",
        "    print(\"Generated:\", result[0]['generated_text'])\n"
      ],
      "metadata": {
        "colab": {
          "base_uri": "https://localhost:8080/"
        },
        "id": "xv0u_SO7CV-9",
        "outputId": "9cfd3d14-a8b2-493c-f096-9da27453973e"
      },
      "execution_count": 12,
      "outputs": [
        {
          "output_type": "stream",
          "name": "stderr",
          "text": [
            "Setting `pad_token_id` to `eos_token_id`:50256 for open-end generation.\n",
            "Both `max_new_tokens` (=256) and `max_length`(=80) seem to have been set. `max_new_tokens` will take precedence. Please refer to the documentation for more information. (https://huggingface.co/docs/transformers/main/en/main_classes/text_generation)\n"
          ]
        },
        {
          "output_type": "stream",
          "name": "stdout",
          "text": [
            "\n",
            "🔸 Prompt: Benefits of learning Python\n"
          ]
        },
        {
          "output_type": "stream",
          "name": "stderr",
          "text": [
            "Setting `pad_token_id` to `eos_token_id`:50256 for open-end generation.\n",
            "Both `max_new_tokens` (=256) and `max_length`(=80) seem to have been set. `max_new_tokens` will take precedence. Please refer to the documentation for more information. (https://huggingface.co/docs/transformers/main/en/main_classes/text_generation)\n"
          ]
        },
        {
          "output_type": "stream",
          "name": "stdout",
          "text": [
            "Generated: Benefits of learning Python\n",
            "\n",
            "You'll learn Python with Python 2.7.1, 2.7.2, and 2.7.3.\n",
            "\n",
            "You'll learn Python with Python 3.5 and 3.6.\n",
            "\n",
            "You'll learn Python with Python 3.4, 3.5, and 3.6.\n",
            "\n",
            "You'll learn Python with Python 3.5, 3.6, and 3.7.\n",
            "\n",
            "You'll learn Python with Python 3.6, 4.5, and 4.6.\n",
            "\n",
            "You'll learn Python with Python 3.7, 4.5, and 4.6.\n",
            "\n",
            "You'll learn Python with Python 4.2, 4.3, and 4.4.\n",
            "\n",
            "You'll learn Python with Python 3.8, 4.4, and 4.5.\n",
            "\n",
            "You'll learn Python with Python 3.9, 4.5, and 4.6.\n",
            "\n",
            "You'll learn Python with Python 3.10, 4.6, and 4.7.\n",
            "\n",
            "You'll learn Python with Python 3.11, 4.7, and 4.8.\n",
            "\n",
            "You'll learn Python with Python 2.7, 3.8, and 3.9.\n",
            "\n",
            "You\n",
            "\n",
            "🔸 Prompt: The role of AI in education\n"
          ]
        },
        {
          "output_type": "stream",
          "name": "stderr",
          "text": [
            "Setting `pad_token_id` to `eos_token_id`:50256 for open-end generation.\n",
            "Both `max_new_tokens` (=256) and `max_length`(=80) seem to have been set. `max_new_tokens` will take precedence. Please refer to the documentation for more information. (https://huggingface.co/docs/transformers/main/en/main_classes/text_generation)\n"
          ]
        },
        {
          "output_type": "stream",
          "name": "stdout",
          "text": [
            "Generated: The role of AI in education in India is growing as it provides a better education system to disadvantaged students and is improving the quality of life for them.\n",
            "\n",
            "In India, AI-enabled teachers have become a major source of revenue for the state government. In 2012, the state government received Rs.6 billion from the private sector while the National Rural Employment Guarantee Scheme (NRGST) provided Rs.16 billion to the state government.\n",
            "\n",
            "When the government decided to build a new AI-based high school in UP, it also decided to invest Rs1 billion to build a technology hub in Nampada.\n",
            "\n",
            "The government of Rajasthan has now invested Rs.1 billion to build a new AI-enabled high school in UP, following the decision by the NRCAS to invest Rs1.5 billion in AI-enabled high schools in the state.\n",
            "\n",
            "\"The new AI-enabled teachers will be trained in both languages and will have a broad spectrum of skills and experience,\" said Dr Vadodara Singh, head of the NRCAS.\n",
            "\n",
            "\"The fact that teachers will be trained in both languages is encouraging to us as you will see more teachers from different countries in the country with different backgrounds and backgrounds of AI-enabled teachers who will be able to\n",
            "\n",
            "🔸 Prompt: Why we should save water\n"
          ]
        },
        {
          "output_type": "stream",
          "name": "stderr",
          "text": [
            "Setting `pad_token_id` to `eos_token_id`:50256 for open-end generation.\n",
            "Both `max_new_tokens` (=256) and `max_length`(=80) seem to have been set. `max_new_tokens` will take precedence. Please refer to the documentation for more information. (https://huggingface.co/docs/transformers/main/en/main_classes/text_generation)\n"
          ]
        },
        {
          "output_type": "stream",
          "name": "stdout",
          "text": [
            "Generated: Why we should save water, water, and electricity from the water crisis in the world, this year we have seen a number of governments doing just that. Last year the UK government and the government of Ireland did the same.\n",
            "\n",
            "The government of the UK and the government of Ireland also have a right to regulate this water. It has to be regulated. I would like to see a regulation of the water system in Ireland. It is very important that we have a regulation of the water system in Ireland. It is important that we have a regulation of the water system in Scotland. We have a regulation of the water system in Wales. The government has a right to regulate the water system in Scotland.\n",
            "\n",
            "Water is a fundamental human right and a fundamental right of every person in a free society. It is absolutely essential that we do all we can to protect that right. I can't think of a better way to do that than by providing for the right of people to protect that right.\n",
            "\n",
            "In a democracy it is not the government of the UK that has the right to control water. There is a right to control water. The government of the UK has the right to control water. And the government of the UK has the right to control water. The only way that we can protect\n",
            "\n",
            "🔸 Prompt: My dream project as a tech student\n",
            "Generated: My dream project as a tech student was to create a machine that could do the whole \"smart\" thing of measuring the heart rate (by counting a heart beat) and then having people look at it.\n",
            "\n",
            "The first computer I tried was a machine called the \"Computer A\" that was very expensive and quite small. I didn't want to give up on it.\n",
            "\n",
            "The machine was the \"Computer B\" that I bought for about $5. It had the ability to move freely and was tiny. It was a bit heavy and I didn't want to run it in the middle of a snowstorm.\n",
            "\n",
            "The idea behind the computer was to test my new computer. I wanted it to be able to see the entire heart rate for every person in the room.\n",
            "\n",
            "This was a really great, fun project and I loved it.\n",
            "\n",
            "What does it take to do a good job of measuring heart rate?\n",
            "\n",
            "What does it take to do a good job of measuring heart rate?\n",
            "\n",
            "What does it take to do a good job of measuring heart rate?\n",
            "\n",
            "What does it take to do a good job of measuring heart rate?\n",
            "\n",
            "What does it take to do a good job of measuring heart rate?\n",
            "\n",
            "What does it take to do a good\n"
          ]
        }
      ]
    },
    {
      "cell_type": "code",
      "source": [
        "## ✅ Conclusion\n",
        "\n",
        "This project used a pre-trained GPT-2 model to generate coherent text based on input prompts. The model performs well for short paragraph generation and shows how natural language generation can be applied in real-world use cases like chatbots, content creation, and more.\n"
      ],
      "metadata": {
        "id": "jiXa1BBBHB_C"
      },
      "execution_count": null,
      "outputs": []
    }
  ]
}